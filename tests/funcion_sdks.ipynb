{
 "cells": [
  {
   "cell_type": "markdown",
   "metadata": {},
   "source": [
    "# 工具调试 "
   ]
  },
  {
   "cell_type": "code",
   "execution_count": null,
   "metadata": {},
   "outputs": [],
   "source": [
    "# 必要包导入\n",
    "\n",
    "from IPython.display import display, Markdown, Latex, JSON, Image, YouTubeVideo, Markdown, HTML, SVG, JSON, Pretty\n",
    "from rich import print as rprint\n",
    "from rich import print_json\n",
    "\n",
    "from dotenv import load_dotenv, find_dotenv\n",
    "import os \n",
    "\n",
    "_ = load_dotenv(find_dotenv()) # read local.env file\n",
    "\n",
    "import nest_asyncio \n",
    "nest_asyncio.apply()"
   ]
  },
  {
   "cell_type": "code",
   "execution_count": null,
   "metadata": {},
   "outputs": [],
   "source": [
    "# change pwd \n",
    "import sys \n",
    "from pathlib import Path\n",
    "cwd_dir = Path(os.getcwd())\n",
    "root_dir = cwd_dir.parent\n",
    "sys.path.append(str(root_dir))\n",
    "print(root_dir)"
   ]
  },
  {
   "cell_type": "markdown",
   "metadata": {},
   "source": [
    "### `wikipedia` 包"
   ]
  },
  {
   "cell_type": "code",
   "execution_count": null,
   "metadata": {},
   "outputs": [],
   "source": []
  },
  {
   "cell_type": "code",
   "execution_count": null,
   "metadata": {},
   "outputs": [],
   "source": []
  },
  {
   "cell_type": "markdown",
   "metadata": {},
   "source": [
    "## Google Search"
   ]
  },
  {
   "cell_type": "code",
   "execution_count": null,
   "metadata": {},
   "outputs": [],
   "source": []
  },
  {
   "cell_type": "markdown",
   "metadata": {},
   "source": [
    "## PDFDEAL (doc2x SDK)"
   ]
  },
  {
   "cell_type": "code",
   "execution_count": null,
   "metadata": {},
   "outputs": [],
   "source": [
    "from pdfdeal import Doc2X\n",
    "\n",
    "client = Doc2X(\n",
    "    apikey=os.getenv(\"DOC2X_API_KEY\"),\n",
    "    debug=True\n",
    ")\n",
    "\n",
    "\n",
    "success, failed, flag = client.pdf2file(\n",
    "    pdf_file=\"toolrl.pdf\",\n",
    "    output_path=\"./output\",\n",
    "    output_format=\"docx\",\n",
    ")\n",
    "\n",
    "print(success)\n",
    "print(failed)\n",
    "print(flag)"
   ]
  },
  {
   "cell_type": "markdown",
   "metadata": {},
   "source": [
    "## Wolframe Alpha"
   ]
  },
  {
   "cell_type": "code",
   "execution_count": null,
   "metadata": {},
   "outputs": [],
   "source": [
    "#query = \"countries with the largest child population\"\n",
    "#query = \"integrate x^2 sin^3 x dx\"\n",
    "query = \"boiling point of mercury\""
   ]
  },
  {
   "cell_type": "code",
   "execution_count": null,
   "metadata": {},
   "outputs": [],
   "source": []
  },
  {
   "cell_type": "markdown",
   "metadata": {},
   "source": [
    "## arxiv \n",
    "\n",
    "https://pypi.org/project/arxiv/"
   ]
  },
  {
   "cell_type": "code",
   "execution_count": 1,
   "metadata": {},
   "outputs": [],
   "source": [
    "import arxiv \n",
    "from arxiv import ArxivError, UnexpectedEmptyPageError, HTTPError \n",
    "\n",
    "client = arxiv.Client(\n",
    "    page_size=100, # < 2000  \n",
    "    delay_seconds=3.0,\n",
    "    num_retries=5\n",
    ")"
   ]
  },
  {
   "cell_type": "code",
   "execution_count": null,
   "metadata": {},
   "outputs": [],
   "source": [
    "from arxiv.Result \n",
    "\n",
    "\n",
    "search = arxiv.Search(\n",
    "    query = \"jupiter\",  # This should be unencoded. Use `au:del_maestro AND ti:checkerboard`, not`au:del_maestro+AND+ti:checkerboard`.\n",
    "    id_list=None,\n",
    "    max_results = 10,\n",
    "    sort_by = arxiv.SortCriterion.Relevance, # : SortCriterion  Option[.LastUpdatedDate, .Relevance, .SubmittedDate]\n",
    "    sort_order = arxiv.SortOrder.Descending  # Optional: [.Ascending, .Descending]\n",
    ")\n",
    "\n",
    "try: \n",
    "    results = client.results(search)\n",
    "except Exception as e:\n",
    "    print(f\"Exception: {e}\")\n",
    "    \n",
    "    \n",
    "\n"
   ]
  },
  {
   "cell_type": "code",
   "execution_count": null,
   "metadata": {},
   "outputs": [
    {
     "name": "stdout",
     "output_type": "stream",
     "text": [
      "--------------------------------------------------\n",
      "entry_id: http://arxiv.org/abs/2504.15787v1 <class 'str'>\n",
      "updated: 2025-04-22 10:59:58+00:00 <class 'datetime.datetime'>\n",
      "published: 2025-04-22 10:59:58+00:00\n",
      "title: Plasma Mechanism of Radio Emission Generation at the Bow Shock of the Exoplanet HD 189733b\n",
      "authors: [arxiv.Result.Author('A. A. Kuznetsov'), arxiv.Result.Author('V. V. Zaitsev')]\n",
      "summary: This study evaluates the possibility of efficient radio emission generation\n",
      "in the bow shock region of hot Jupiter-type exoplanets. As a source of\n",
      "energetic electrons, the shock drift acceleration mechanism at a\n",
      "quasi-perpendicular shock is proposed. Electrons reflected and accelerated by\n",
      "the shock propagate through the relatively dense stellar wind plasma and excite\n",
      "plasma waves; therefore, a plasma emission mechanism is considered as the\n",
      "source of the resulting radio waves. Using the bow shock of the hot Jupiter HD\n",
      "189733b as a case study, the properties of the energetic electron beam, the\n",
      "excited plasma waves, and the resulting radio frequencies are estimated. An\n",
      "energy-based analysis is carried out to identify the range of stellar wind\n",
      "parameters for which radio emission from the bow shock of the exoplanet HD\n",
      "189733b could be detectable by modern astronomical instruments.\n",
      "comment: None\n",
      "journal_ref: None\n",
      "doi: None <class 'NoneType'>\n",
      "primary_category: physics.plasm-ph\n",
      "categories: ['physics.plasm-ph', 'astro-ph.EP', 'astro-ph.IM']\n",
      "links: [arxiv.Result.Link('http://arxiv.org/abs/2504.15787v1', title=None, rel='alternate', content_type=None), arxiv.Result.Link('http://arxiv.org/pdf/2504.15787v1', title='pdf', rel='related', content_type=None)]\n",
      "pdf_url: http://arxiv.org/pdf/2504.15787v1\n",
      "--------------------------------------------------\n",
      "--------------------------------------------------\n",
      "entry_id: http://arxiv.org/abs/2504.15757v1 <class 'str'>\n",
      "updated: 2025-04-22 10:10:02+00:00 <class 'datetime.datetime'>\n",
      "published: 2025-04-22 10:10:02+00:00\n",
      "title: Retrieving day- and nightside atmospheric properties of the ultra-hot Jupiter TOI-2109b. Detection of Fe and CO emission lines and evidence for inefficient heat transport\n",
      "authors: [arxiv.Result.Author('D. Cont'), arxiv.Result.Author('L. Nortmann'), arxiv.Result.Author('F. Lesjak'), arxiv.Result.Author('F. Yan'), arxiv.Result.Author('D. Shulyak'), arxiv.Result.Author('A. Lavail'), arxiv.Result.Author('M. Stangret'), arxiv.Result.Author('E. Pallé'), arxiv.Result.Author('P. J. Amado'), arxiv.Result.Author('J. A. Caballero'), arxiv.Result.Author('A. Hatzes'), arxiv.Result.Author('Th. Henning'), arxiv.Result.Author('N. Piskunov'), arxiv.Result.Author('A. Quirrenbach'), arxiv.Result.Author('A. Reiners'), arxiv.Result.Author('I. Ribas'), arxiv.Result.Author('J. F. Agüí Fernández'), arxiv.Result.Author('C. Akın'), arxiv.Result.Author('L. Boldt-Christmas'), arxiv.Result.Author('P. Chaturvedi'), arxiv.Result.Author('S. Czesla'), arxiv.Result.Author('A. Hahlin'), arxiv.Result.Author('K. Heng'), arxiv.Result.Author('O. Kochukhov'), arxiv.Result.Author('T. Marquart'), arxiv.Result.Author('K. Molaverdikhani'), arxiv.Result.Author('D. Montes'), arxiv.Result.Author('G. Morello'), arxiv.Result.Author('E. Nagel'), arxiv.Result.Author('J. Orell-Miquel'), arxiv.Result.Author('A. D. Rains'), arxiv.Result.Author('M. Rengel'), arxiv.Result.Author('A. Schweitzer'), arxiv.Result.Author('A. Sánchez-López'), arxiv.Result.Author('U. Seemann')]\n",
      "summary: The ultra-hot Jupiter (UHJ) TOI-2109b marks the lower edge of the equilibrium\n",
      "temperature gap between 3500 K and 4500 K, an unexplored thermal regime that\n",
      "separates KELT-9b, the hottest planet yet discovered, from all other currently\n",
      "known gas giants. To study the structure of TOI-2109b's atmosphere, we obtained\n",
      "high-resolution emission spectra of both the planetary day- and nightsides with\n",
      "CARMENES and CRIRES$^+$. By applying the cross-correlation technique, we\n",
      "identified the emission signatures of Fe I and CO, as well as a thermal\n",
      "inversion layer in the dayside atmosphere; no significant H$_2$O signal was\n",
      "detected from the dayside. None of the analyzed species were detectable from\n",
      "the nightside atmosphere. We applied a Bayesian retrieval framework that\n",
      "combines high-resolution spectroscopy with photometric measurements to\n",
      "constrain the dayside atmospheric parameters and derive upper limits for the\n",
      "nightside hemisphere. The dayside thermal inversion extends from 3200 K to 4600\n",
      "K, with an atmospheric metallicity consistent with that of the host star (0.36\n",
      "dex). Only weak constraints could be placed on the C/O ratio ($>$ 0.15). The\n",
      "retrieved spectral line broadening is consistent with tidally locked rotation,\n",
      "indicating the absence of strong dynamical processes. An upper temperature\n",
      "limit of 2400 K and a maximum atmospheric temperature gradient of 700 K/log bar\n",
      "could be derived for the nightside. Comparison of the retrieved dayside T-p\n",
      "profile with theoretical models, the absence of strong atmospheric dynamics,\n",
      "and significant differences in the thermal constraints between the day- and\n",
      "nightside hemispheres suggest a limited heat transport efficiency across the\n",
      "planetary atmosphere. Overall, our results place TOI-2109b in a transitional\n",
      "regime between the UHJs below the thermal gap, which show both CO and H$_2$O\n",
      "emission lines, and KELT-9b, where molecular features are largely absent.\n",
      "comment: Accepted for publication in A&A\n",
      "journal_ref: None\n",
      "doi: None <class 'NoneType'>\n",
      "primary_category: astro-ph.EP\n",
      "categories: ['astro-ph.EP']\n",
      "links: [arxiv.Result.Link('http://arxiv.org/abs/2504.15757v1', title=None, rel='alternate', content_type=None), arxiv.Result.Link('http://arxiv.org/pdf/2504.15757v1', title='pdf', rel='related', content_type=None)]\n",
      "pdf_url: http://arxiv.org/pdf/2504.15757v1\n",
      "--------------------------------------------------\n",
      "--------------------------------------------------\n",
      "entry_id: http://arxiv.org/abs/2504.15530v1 <class 'str'>\n",
      "updated: 2025-04-22 02:16:52+00:00 <class 'datetime.datetime'>\n",
      "published: 2025-04-22 02:16:52+00:00\n",
      "title: Estimates of Rotation Periods for Jupiter Trojans with the Zwicky Transient Facility Photometric Lightcurves\n",
      "authors: [arxiv.Result.Author('Zhuofu'), arxiv.Result.Author('Li'), arxiv.Result.Author('Yasin A. Chowdhury'), arxiv.Result.Author('Željko Ivezić'), arxiv.Result.Author('Ashish Mahabal'), arxiv.Result.Author('Ari Heinze'), arxiv.Result.Author('Lynne Jones'), arxiv.Result.Author('Mercedes S. Thompson'), arxiv.Result.Author('Eric Bellm'), arxiv.Result.Author('Mario Jurić'), arxiv.Result.Author('Andrew J. Connolly'), arxiv.Result.Author('Bryce Bolin'), arxiv.Result.Author('Frank J. Masci'), arxiv.Result.Author('Avery Wold'), arxiv.Result.Author('Reed L. Riddle'), arxiv.Result.Author('Richard G. Dekany')]\n",
      "summary: We present new rotational period estimates for 216 Jupiter Trojans using\n",
      "photometric data from the Zwicky Transient Facility (ZTF), including 80 Trojans\n",
      "with previously unknown periods. Our analysis reveals rotation periods ranging\n",
      "from 4.6 hours to 447.8 hours. These results support the existence of a spin\n",
      "barrier for Trojans larger than 10 km, with periods clustering between 4 and\n",
      "4.8 hours. This spin barrier is roughly twice as long as that observed for\n",
      "main-belt asteroids, suggesting that Jupiter Trojans have significantly lower\n",
      "bulk densities, likely due to a higher fraction of ices and volatile materials\n",
      "in their composition. We identify three new Trojans with reliable rotation\n",
      "periods near the spin barrier, doubling the number of known Trojans in this\n",
      "critical period range. Using these results, we estimate a mean density of\n",
      "approximately 0.52 g/cm^3 for rubble-pile Trojans. Our findings support the\n",
      "growing evidence that many Trojans are rubble-pile bodies with distinct\n",
      "physical properties compared to main-belt asteroids. Looking forward, we\n",
      "anticipate that data from the Vera C. Rubin Observatory's Legacy Survey of\n",
      "Space and Time (LSST) will provide rotational period estimates for several\n",
      "hundred thousand Trojans, down to objects as small as 1 km, enabling a more\n",
      "detailed investigation of their rotational properties and internal structure.\n",
      "comment: 16 pages, 7 figures, 3 tables. Accepted for publication in Icarus on\n",
      "  April 15, 2025. For data and figures, see this http URL:\n",
      "  https://github.com/ZhuofuLi/ZTF-Jupiter-Trojan-Rotation-Periods\n",
      "journal_ref: None\n",
      "doi: None <class 'NoneType'>\n",
      "primary_category: astro-ph.EP\n",
      "categories: ['astro-ph.EP']\n",
      "links: [arxiv.Result.Link('http://arxiv.org/abs/2504.15530v1', title=None, rel='alternate', content_type=None), arxiv.Result.Link('http://arxiv.org/pdf/2504.15530v1', title='pdf', rel='related', content_type=None)]\n",
      "pdf_url: http://arxiv.org/pdf/2504.15530v1\n",
      "--------------------------------------------------\n"
     ]
    }
   ],
   "source": [
    "for item in client.results(\n",
    "    arxiv.Search(\n",
    "        query=\"jupiter\",\n",
    "        max_results=3,\n",
    "        sort_by=arxiv.SortCriterion.LastUpdatedDate,\n",
    "        sort_order=arxiv.SortOrder.Descending\n",
    "        )\n",
    "    ):\n",
    "    print(\"-\"*50)\n",
    "    print(f\"entry_id: {item.entry_id}\", type(item.entry_id)) # A url of the form `https://arxiv.org/abs/{id}\n",
    "    print(f\"updated: {item.updated}\", type(item.updated)) # : class 'datetime.datetime , When the result was last updated.\n",
    "    print(f\"published: {item.published}\") # : class 'datetime.datetime, When the result was originally published.\n",
    "    print(f\"title: {item.title}\") # The title of the result.\n",
    "    \n",
    "    print(f\"authors: {item.authors}\") # :list[arxiv.Result.Author] ,The result's authors.\n",
    "    \n",
    "\n",
    "    \n",
    "    print(f\"summary: {item.summary}\") # The result abstract.\n",
    "    print(f\"comment: {item.comment}\") # The authors' comment if present\n",
    "    print(f\"journal_ref: {item.journal_ref}\") # A journal reference if present.\n",
    "    print(f\"doi: {item.doi}\") # A URL for the resolved DOI to an external resource if present.\n",
    "    \n",
    "\n",
    "    \n",
    "    print(f\"primary_category: {item.primary_category}\") # :str, The result's primary arXiv category. See [arXiv: Category Taxonomy](https://arxiv.org/category_taxonomy).\n",
    "    print(f\"categories: {item.categories}\") # :list[str], All of the result's categories. See [arXiv: Category Taxonomy](https://arxiv.org/category_taxonomy)\n",
    "    \n",
    "    print(f\"links: {item.links}\") # : list[arxiv.Result.Link], Up to three URLs associated with this result.\n",
    "    \n",
    "\n",
    "    \n",
    "    print(f\"pdf_url: {item.pdf_url}\") # The URL of a PDF version of this result if present among links\n",
    "    #print(f\"_raw: {item._raw}\") # The raw feedparser result object if this Result was constructed with Result._from_feed_entry.\n",
    "    print(\"-\"*50)\n",
    "    "
   ]
  },
  {
   "cell_type": "code",
   "execution_count": null,
   "metadata": {},
   "outputs": [],
   "source": [
    "# Search for the paper with ID \"1605.08386v1\"\n",
    "search_by_id = arxiv.Search(id_list=[\"1605.08386v1\"])\n",
    "# Reuse client to fetch the paper, then print its title.\n",
    "first_result = next(client.results(search))\n",
    "print(first_result.title)"
   ]
  },
  {
   "cell_type": "code",
   "execution_count": null,
   "metadata": {},
   "outputs": [],
   "source": [
    "# To download a PDF of the paper with ID \"1605.08386v1,\" run a Search and then use Result.download_pdf():\n",
    "\n",
    "paper = next(arxiv.Client().results(arxiv.Search(id_list=[\"1605.08386v1\"])))\n",
    "# Download the PDF to the PWD with a default filename.\n",
    "paper.download_pdf()\n",
    "# Download the PDF to the PWD with a custom filename.\n",
    "paper.download_pdf(filename=\"downloaded-paper.pdf\")\n",
    "# Download the PDF to a specified directory with a custom filename.\n",
    "paper.download_pdf(dirpath=\"./mydir\", filename=\"downloaded-paper.pdf\")"
   ]
  }
 ],
 "metadata": {
  "kernelspec": {
   "display_name": ".venv",
   "language": "python",
   "name": "python3"
  },
  "language_info": {
   "codemirror_mode": {
    "name": "ipython",
    "version": 3
   },
   "file_extension": ".py",
   "mimetype": "text/x-python",
   "name": "python",
   "nbconvert_exporter": "python",
   "pygments_lexer": "ipython3",
   "version": "3.12.9"
  }
 },
 "nbformat": 4,
 "nbformat_minor": 2
}
