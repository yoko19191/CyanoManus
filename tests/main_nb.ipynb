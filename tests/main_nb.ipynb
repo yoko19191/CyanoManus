{
 "cells": [
  {
   "cell_type": "markdown",
   "metadata": {},
   "source": [
    "# 🤖 CyanoManus \n",
    "\n",
    "\n"
   ]
  },
  {
   "cell_type": "markdown",
   "metadata": {},
   "source": [
    "### import  libraries"
   ]
  },
  {
   "cell_type": "code",
   "execution_count": null,
   "metadata": {},
   "outputs": [],
   "source": [
    "# for better dispay \n",
    "from IPython.display import display, Markdown, Latex, JSON, Image, YouTubeVideo, Markdown, HTML, SVG, JSON, Pretty\n",
    "from rich import print as rprint\n",
    "from rich import print_json\n",
    "\n",
    "# openai & openai agents \n",
    "from openai import AsyncOpenAI\n",
    "from agents import (\n",
    "    Agent,\n",
    "    Runner,\n",
    "    trace,\n",
    "    set_default_openai_api,\n",
    "    set_default_openai_client,\n",
    "    set_trace_processors\n",
    ")\n",
    "\n",
    "# langsmith tracing\n",
    "from langsmith.wrappers import OpenAIAgentsTracingProcessor\n",
    "\n",
    "# .env load \n",
    "from dotenv import load_dotenv, find_dotenv\n",
    "import os \n",
    "\n",
    "# asyncio \n",
    "import asyncio\n",
    "import nest_asyncio"
   ]
  },
  {
   "cell_type": "code",
   "execution_count": null,
   "metadata": {},
   "outputs": [],
   "source": [
    "import sys \n",
    "from pathlib import Path\n",
    "\n",
    "cwd_dir = Path(os.getcwd())\n",
    "root_dir = cwd_dir.parent\n",
    "sys.path.append(str(root_dir))\n",
    "    \n",
    "rprint(root_dir)"
   ]
  },
  {
   "cell_type": "markdown",
   "metadata": {},
   "source": [
    "### configure"
   ]
  },
  {
   "cell_type": "code",
   "execution_count": null,
   "metadata": {},
   "outputs": [],
   "source": [
    "#\n",
    "_ = load_dotenv(find_dotenv())\n",
    "\n",
    "#\n",
    "external_client = AsyncOpenAI(\n",
    "    api_key=os.getenv(\"BASIC_LLM_API_KEY\"),\n",
    "    base_url=os.getenv(\"BASIC_LLM_BASE_URL\"),\n",
    ")\n",
    "\n",
    "set_default_openai_client(external_client, use_for_tracing=True)\n",
    "set_default_openai_api(\"chat_completions\") \n",
    "\n",
    "#\n",
    "set_trace_processors([OpenAIAgentsTracingProcessor()])\n",
    "\n",
    "# \n",
    "nest_asyncio.apply()\n",
    "loop = asyncio.get_event_loop()"
   ]
  },
  {
   "cell_type": "markdown",
   "metadata": {},
   "source": [
    "### build start agent"
   ]
  },
  {
   "cell_type": "code",
   "execution_count": null,
   "metadata": {},
   "outputs": [],
   "source": [
    "from src.function_tools.search import prompt_with_tavily_tools_instructions\n",
    "from src.function_tools.search import tavily_search, tavily_extract, get_weather\n",
    "\n",
    "from src.utils.cyano_hooks import CyanoAgentHooks\n",
    "\n",
    "instructions_str = \"你是一个 AI 智能体，擅长使用各种网络搜索工具完成用户的请求。\"\n",
    "\n",
    "\n",
    "starting_agent = Agent(\n",
    "    name=\"research_orch_agent\",\n",
    "    instructions=prompt_with_tavily_tools_instructions(instructions_str),\n",
    "    tools=[tavily_search, tavily_extract, get_weather],\n",
    "    hooks=CyanoAgentHooks(title=\"搜索智能体\")\n",
    ")"
   ]
  },
  {
   "cell_type": "markdown",
   "metadata": {},
   "source": [
    "### agent invoke"
   ]
  },
  {
   "cell_type": "code",
   "execution_count": null,
   "metadata": {},
   "outputs": [],
   "source": [
    "async def main():\n",
    "    input_str = \"能不能告诉我杭州今天的天气状况?\"\n",
    "    result = await Runner.run(\n",
    "        starting_agent=starting_agent, \n",
    "        input=input_str\n",
    "    ) \n",
    "    rprint(result.final_output)"
   ]
  },
  {
   "cell_type": "code",
   "execution_count": null,
   "metadata": {},
   "outputs": [],
   "source": [
    "await main()"
   ]
  },
  {
   "cell_type": "markdown",
   "metadata": {},
   "source": [
    "### multi-round chat "
   ]
  },
  {
   "cell_type": "code",
   "execution_count": null,
   "metadata": {},
   "outputs": [],
   "source": [
    "async def chat(starting_agent : Agent):\n",
    "    with trace(\"main_nb-chat_with_agent\"):\n",
    "        messages = []\n",
    "        \n",
    "        while True:\n",
    "            user_input = input(\"User: \")\n",
    "            if user_input.lower() in [\"exit\", \"bye\", \"quit\"]:\n",
    "                break\n",
    "            # invoke agent\n",
    "            messages.append({\"role\": \"user\", \"content\": user_input})\n",
    "            result = await Runner.run(\n",
    "                starting_agent=starting_agent,\n",
    "                input=messages\n",
    "            )\n",
    "            # display result\n",
    "            display(Markdown(result.final_output))\n",
    "            # over write messages\n",
    "            messages = result.to_input_list()"
   ]
  },
  {
   "cell_type": "code",
   "execution_count": null,
   "metadata": {},
   "outputs": [],
   "source": [
    "await chat(\n",
    "    starting_agent=starting_agent\n",
    ")"
   ]
  },
  {
   "cell_type": "markdown",
   "metadata": {},
   "source": [
    "### DEBUG "
   ]
  },
  {
   "cell_type": "code",
   "execution_count": null,
   "metadata": {},
   "outputs": [],
   "source": [
    "from src.function_tools.search import get_weather"
   ]
  },
  {
   "cell_type": "code",
   "execution_count": null,
   "metadata": {},
   "outputs": [],
   "source": [
    "weather_data = await get_weather(loc=\"hangzhou\")"
   ]
  },
  {
   "cell_type": "code",
   "execution_count": null,
   "metadata": {},
   "outputs": [],
   "source": [
    "weather_data"
   ]
  }
 ],
 "metadata": {
  "kernelspec": {
   "display_name": ".venv",
   "language": "python",
   "name": "python3"
  },
  "language_info": {
   "codemirror_mode": {
    "name": "ipython",
    "version": 3
   },
   "file_extension": ".py",
   "mimetype": "text/x-python",
   "name": "python",
   "nbconvert_exporter": "python",
   "pygments_lexer": "ipython3",
   "version": "3.12.9"
  }
 },
 "nbformat": 4,
 "nbformat_minor": 2
}
