{
 "cells": [
  {
   "cell_type": "markdown",
   "metadata": {},graphrag_tools
   "source": [
    "## 🤖 CyanoManus : Extensible Design Enable Adaptive Agents. Your Infinite General Purpose Multi-Agent Assistant."
   ]
  },
  {
   "cell_type": "code",
   "execution_count": 1,
   "metadata": {},
   "outputs": [],
   "source": [
    "# for better display \n",
    "from IPython.display import display, Markdown, Latex, JSON, Image, YouTubeVideo, Markdown, HTML, SVG, JSON, Pretty\n",
    "from rich import print as rprint\n",
    "from rich import print_json"
   ]
  },
  {
   "cell_type": "code",
   "execution_count": 2,
   "metadata": {},
   "outputs": [],
   "source": [
    "# openai & openai agents\n",
    "from openai import AsyncOpenAI\n",
    "from agents import (\n",
    "    Agent,\n",
    "    Runner,\n",
    "    trace,\n",
    "    set_default_openai_client,\n",
    "    set_default_openai_api,\n",
    "    set_trace_processors,\n",
    "    OpenAIChatCompletionsModel,\n",
    "    Model,\n",
    "    ModelProvider,\n",
    "    RunConfig\n",
    ")"
   ]
  },
  {
   "cell_type": "code",
   "execution_count": 3,
   "metadata": {},
   "outputs": [],
   "source": [
    "# load .env file \n",
    "from dotenv import load_dotenv, find_dotenv \n",
    "import os \n",
    "\n",
    "_ = load_dotenv(find_dotenv()) # read local .env file"
   ]
  },
  {
   "cell_type": "code",
   "execution_count": 4,
   "metadata": {},
   "outputs": [],
   "source": [
    "# langsmith tracing\n",
    "from langsmith.wrappers import OpenAIAgentsTracingProcessor\n",
    "\n",
    "set_trace_processors([OpenAIAgentsTracingProcessor()])"
   ]
  },
  {
   "cell_type": "code",
   "execution_count": 5,
   "metadata": {},
   "outputs": [],
   "source": [
    "# set default openai backend \n",
    "\n",
    "external_client = AsyncOpenAI(\n",
    "    api_key=os.getenv(\"OPENAI_API_KEY\"),\n",
    "    base_url=os.getenv(\"OPENAI_API_BASE\")\n",
    ")\n",
    "\n",
    "set_default_openai_client(external_client, use_for_tracing=True)\n",
    "set_default_openai_api(\"chat_completions\")\n",
    "\n",
    "\n",
    "# ModelProvider with RunConfig\n",
    "\n",
    "class OpenAICompatibleModelProvider(ModelProvider):\n",
    "    def __init__(self):\n",
    "        self.client = AsyncOpenAI(\n",
    "            api_key=os.getenv(\"OPENAI_API_KEY\"),\n",
    "            base_url=os.getenv(\"OPENAI_API_BASE\")\n",
    "        )\n",
    "    \n",
    "    def get_model(self, model_name: str | None) -> Model: \n",
    "        return OpenAIChatCompletionsModel(model=model_name, openai_client=self.client)\n",
    "        \n",
    "OPENAI_COMPATIBLE_MODEL_PROVIDER = OpenAICompatibleModelProvider()"
   ]
  },
  {
   "cell_type": "code",
   "execution_count": 6,
   "metadata": {},
   "outputs": [],
   "source": [
    "# asyncio run\n",
    "import asyncio\n",
    "import nest_asyncio \n",
    "\n",
    "nest_asyncio.apply()\n",
    "loop = asyncio.get_event_loop()"
   ]
  },
  {
   "cell_type": "code",
   "execution_count": 7,
   "metadata": {},
   "outputs": [
    {
     "name": "stdout",
     "output_type": "stream",
     "text": [
      "/Users/guchen/repo/CyanoManus\n"
     ]
    }
   ],
   "source": [
    "# change pwd \n",
    "import sys \n",
    "from pathlib import Path\n",
    "cwd_dir = Path(os.getcwd())\n",
    "root_dir = cwd_dir.parent\n",
    "sys.path.append(str(root_dir))\n",
    "print(root_dir)"
   ]
  },
  {
   "cell_type": "markdown",
   "metadata": {},
   "source": [
    "## Agent Running"
   ]
  },
  {
   "cell_type": "code",
   "execution_count": null,
   "metadata": {},
   "outputs": [
    {
     "name": "stderr",
     "output_type": "stream",
     "text": [
      "/Users/guchen/repo/CyanoManus/.venv/lib/python3.12/site-packages/tqdm/auto.py:21: TqdmWarning: IProgress not found. Please update jupyter and ipywidgets. See https://ipywidgets.readthedocs.io/en/stable/user_install.html\n",
      "  from .autonotebook import tqdm as notebook_tqdm\n"
     ]
    },
    {
     "name": "stdout",
     "output_type": "stream",
     "text": [
      "\n"
     ]
    }
   ],
   "source": [
    "# \n",
    "from src.tools.search.tavily import get_all_tavily_tools, TAVILY_TOOLS_PROMPT\n",
    "# from src.tools.search.google import google_search, GOOGLE_SEARCH_TOOLS_PROMPT\n",
    "from src.tools.search.wikipedia import get_all_wikipedia_tools, WIKIPEDIA_TOOLS_PROMPT\n",
    "from src.retriever.graphrag.graphrag_func_tools import check_graphrag_project_status, graphrag_query # this might take a while\n",
    "\n",
    "from src.hooks.agent_hooks import RichPrintAgentHooks\n",
    "\n",
    "# \n",
    "available_tools = [check_graphrag_project_status, graphrag_query] + get_all_tavily_tools() + get_all_wikipedia_tools()\n",
    "\n",
    "# \n",
    "search_agent_instructions = \"你是一个智能体，擅长使用各种网络搜索工具来回答问题。\" + TAVILY_TOOLS_PROMPT + WIKIPEDIA_TOOLS_PROMPT + \"请根据用户的问题，选择合适的网络搜索工具来回答问题。\"\n",
    "\n",
    "test_agent = Agent(\n",
    "    name=\"search_agent\",\n",
    "    instructions=search_agent_instructions,\n",
    "    tools=available_tools,\n",
    "    hooks=RichPrintAgentHooks(title=\"搜索智能体\"),\n",
    "    #model=\"gpt-4.1\"\n",
    ")"
   ]
  },
  {
   "cell_type": "code",
   "execution_count": null,
   "metadata": {},
   "outputs": [],
   "source": [
    "# agent invoking\n",
    "async def invoke(input_str: str):\n",
    "    result = await Runner.run(\n",
    "        starting_agent=test_agent,\n",
    "        input=input_str,\n",
    "        run_config=RunConfig(\n",
    "            model_provider=OPENAI_COMPATIBLE_MODEL_PROVIDER,\n",
    "            model=\"gpt-4.1-mini\",\n",
    "            workflow_name=\"main-nb-invoke-test\",\n",
    "        ),\n",
    "        max_turns=25\n",
    "    )"
   ]
  },
  {
   "cell_type": "code",
   "execution_count": 10,
   "metadata": {},
   "outputs": [
    {
     "data": {
      "text/html": [
       "<pre style=\"white-space:pre;overflow-x:auto;line-height:normal;font-family:Menlo,'DejaVu Sans Mono',consolas,'Courier New',monospace\"><span style=\"color: #7f7f7f; text-decoration-color: #7f7f7f\">&lt;搜索智能体&gt; </span><span style=\"font-weight: bold\">🤖 AGENT START: </span><span style=\"color: #008080; text-decoration-color: #008080; font-weight: bold\">search_agent</span><span style=\"font-weight: bold\"> invoked.</span> (1)\n",
       "</pre>\n"
      ],
      "text/plain": [
       "\u001b[2m<搜索智能体> \u001b[0m\u001b[1m🤖 AGENT START: \u001b[0m\u001b[1;36msearch_agent\u001b[0m\u001b[1m invoked.\u001b[0m (1)\n"
      ]
     },
     "metadata": {},
     "output_type": "display_data"
    },
    {
     "data": {
      "text/html": [
       "<pre style=\"white-space:pre;overflow-x:auto;line-height:normal;font-family:Menlo,'DejaVu Sans Mono',consolas,'Courier New',monospace\"><span style=\"color: #7f7f7f; text-decoration-color: #7f7f7f\">&lt;搜索智能体&gt; </span><span style=\"font-weight: bold\">🛠️ TOOL START: </span><span style=\"color: #008080; text-decoration-color: #008080; font-weight: bold\">search_agent </span>using <span style=\"color: #808000; text-decoration-color: #808000; font-weight: bold\">check_graphrag_project_status </span><span style=\"color: #7f7f7f; text-decoration-color: #7f7f7f; font-style: italic\">Check if the open...</span> (2)\n",
       "</pre>\n"
      ],
      "text/plain": [
       "\u001b[2m<搜索智能体> \u001b[0m\u001b[1m🛠️ TOOL START: \u001b[0m\u001b[1;36msearch_agent \u001b[0musing \u001b[1;33mcheck_graphrag_project_status \u001b[0m\u001b[2;3mCheck if the open...\u001b[0m (2)\n"
      ]
     },
     "metadata": {},
     "output_type": "display_data"
    },
    {
     "data": {
      "text/html": [
       "<pre style=\"white-space:pre;overflow-x:auto;line-height:normal;font-family:Menlo,'DejaVu Sans Mono',consolas,'Courier New',monospace\"><span style=\"color: #7f7f7f; text-decoration-color: #7f7f7f\">&lt;搜索智能体&gt; </span><span style=\"font-weight: bold\">🔍 TOOL COMPLETE: </span><span style=\"color: #008080; text-decoration-color: #008080; font-weight: bold\">search_agent</span> finished <span style=\"color: #808000; text-decoration-color: #808000; font-weight: bold\">check_graphrag_project_status</span> (3)\n",
       "</pre>\n"
      ],
      "text/plain": [
       "\u001b[2m<搜索智能体> \u001b[0m\u001b[1m🔍 TOOL COMPLETE: \u001b[0m\u001b[1;36msearch_agent\u001b[0m finished \u001b[1;33mcheck_graphrag_project_status\u001b[0m (3)\n"
      ]
     },
     "metadata": {},
     "output_type": "display_data"
    },
    {
     "data": {
      "text/html": [
       "<pre style=\"white-space:pre;overflow-x:auto;line-height:normal;font-family:Menlo,'DejaVu Sans Mono',consolas,'Courier New',monospace\"><span style=\"color: #7f7f7f; text-decoration-color: #7f7f7f\">&lt;搜索智能体&gt; </span><span style=\"font-weight: bold\">🛠️ TOOL START: </span><span style=\"color: #008080; text-decoration-color: #008080; font-weight: bold\">search_agent </span>using <span style=\"color: #808000; text-decoration-color: #808000; font-weight: bold\">graphrag_query </span><span style=\"color: #7f7f7f; text-decoration-color: #7f7f7f; font-style: italic\">这是一个使用 GraphRAG 查...</span> (4)\n",
       "</pre>\n"
      ],
      "text/plain": [
       "\u001b[2m<搜索智能体> \u001b[0m\u001b[1m🛠️ TOOL START: \u001b[0m\u001b[1;36msearch_agent \u001b[0musing \u001b[1;33mgraphrag_query \u001b[0m\u001b[2;3m这是一个使用 GraphRAG 查...\u001b[0m (4)\n"
      ]
     },
     "metadata": {},
     "output_type": "display_data"
    },
    {
     "name": "stdout",
     "output_type": "stream",
     "text": [
      "\n",
      "INFO: Vector Store Args: {\n",
      "    \"default_vector_store\": {\n",
      "        \"type\": \"lancedb\",\n",
      "        \"db_uri\": \"/Users/guchen/repo/CyanoManus/examples/agents_sdk_graphrag/output/lancedb\",\n",
      "        \"url\": null,\n",
      "        \"audience\": null,\n",
      "        \"container_name\": \"==== REDACTED ====\",\n",
      "        \"database_name\": null,\n",
      "        \"overwrite\": true\n",
      "    }\n",
      "}\n"
     ]
    },
    {
     "data": {
      "text/html": [
       "<pre style=\"white-space:pre;overflow-x:auto;line-height:normal;font-family:Menlo,'DejaVu Sans Mono',consolas,'Courier New',monospace\"><span style=\"color: #7f7f7f; text-decoration-color: #7f7f7f\">&lt;搜索智能体&gt; </span><span style=\"font-weight: bold\">🔍 TOOL COMPLETE: </span><span style=\"color: #008080; text-decoration-color: #008080; font-weight: bold\">search_agent</span> finished <span style=\"color: #808000; text-decoration-color: #808000; font-weight: bold\">graphrag_query</span> (5)\n",
       "</pre>\n"
      ],
      "text/plain": [
       "\u001b[2m<搜索智能体> \u001b[0m\u001b[1m🔍 TOOL COMPLETE: \u001b[0m\u001b[1;36msearch_agent\u001b[0m finished \u001b[1;33mgraphrag_query\u001b[0m (5)\n"
      ]
     },
     "metadata": {},
     "output_type": "display_data"
    },
    {
     "data": {
      "text/html": [
       "<pre style=\"white-space:pre;overflow-x:auto;line-height:normal;font-family:Menlo,'DejaVu Sans Mono',consolas,'Courier New',monospace\"><span style=\"color: #7f7f7f; text-decoration-color: #7f7f7f\">&lt;搜索智能体&gt; </span><span style=\"font-weight: bold\">✅ AGENT COMPLETE: </span><span style=\"color: #008080; text-decoration-color: #008080; font-weight: bold\">search_agent</span><span style=\"font-weight: bold\"> finished.</span> (6)\n",
       "</pre>\n"
      ],
      "text/plain": [
       "\u001b[2m<搜索智能体> \u001b[0m\u001b[1m✅ AGENT COMPLETE: \u001b[0m\u001b[1;36msearch_agent\u001b[0m\u001b[1m finished.\u001b[0m (6)\n"
      ]
     },
     "metadata": {},
     "output_type": "display_data"
    },
    {
     "data": {
      "text/html": [
       "<pre style=\"white-space:pre;overflow-x:auto;line-height:normal;font-family:Menlo,'DejaVu Sans Mono',consolas,'Courier New',monospace\">OpenAI Agents SDK 的主要特性包括：                                                                                 \n",
       "\n",
       "<span style=\"color: #808000; text-decoration-color: #808000; font-weight: bold\"> 1 </span>智能代理构建：支持开发基于 AI                                                                                   \n",
       "<span style=\"color: #808000; text-decoration-color: #808000; font-weight: bold\">   </span>的智能代理，能够理解用户指令、执行复杂任务、与用户及系统交互，实现自动化和智能服务。                            \n",
       "<span style=\"color: #808000; text-decoration-color: #808000; font-weight: bold\"> 2 </span>自然语言理解与生成：集成强大的自然语言处理能力，能准确理解自然语言指令并生成语境适合的回复，提升用户体验。      \n",
       "<span style=\"color: #808000; text-decoration-color: #808000; font-weight: bold\"> 3 </span>多任务处理能力：代理支持多种任务如信息检索、内容生成、数据分析等，适用于多样场景和业务需求。                    \n",
       "<span style=\"color: #808000; text-decoration-color: #808000; font-weight: bold\"> 4 </span>灵活集成与扩展：模块化设计，方便定制和扩展，支持与现有系统或第三方服务无缝集成，增强功能和适用性。              \n",
       "<span style=\"color: #808000; text-decoration-color: #808000; font-weight: bold\"> 5 </span>安全与隐私保护：注重用户数据安全与隐私，确保符合相关安全标准和法规。                                            \n",
       "\n",
       "总体目标是降低 AI 代理开发门槛，提高开发效率，推动智能应用广泛落地。                                               \n",
       "</pre>\n"
      ],
      "text/plain": [
       "OpenAI Agents SDK 的主要特性包括：                                                                                 \n",
       "\n",
       "\u001b[1;33m 1 \u001b[0m智能代理构建：支持开发基于 AI                                                                                   \n",
       "\u001b[1;33m   \u001b[0m的智能代理，能够理解用户指令、执行复杂任务、与用户及系统交互，实现自动化和智能服务。                            \n",
       "\u001b[1;33m 2 \u001b[0m自然语言理解与生成：集成强大的自然语言处理能力，能准确理解自然语言指令并生成语境适合的回复，提升用户体验。      \n",
       "\u001b[1;33m 3 \u001b[0m多任务处理能力：代理支持多种任务如信息检索、内容生成、数据分析等，适用于多样场景和业务需求。                    \n",
       "\u001b[1;33m 4 \u001b[0m灵活集成与扩展：模块化设计，方便定制和扩展，支持与现有系统或第三方服务无缝集成，增强功能和适用性。              \n",
       "\u001b[1;33m 5 \u001b[0m安全与隐私保护：注重用户数据安全与隐私，确保符合相关安全标准和法规。                                            \n",
       "\n",
       "总体目标是降低 AI 代理开发门槛，提高开发效率，推动智能应用广泛落地。                                               \n"
      ]
     },
     "metadata": {},
     "output_type": "display_data"
    }
   ],
   "source": [
    "await invoke(\"使用 GraphRAG 回答什么 OpenAI Agents SDK 的主要特性是什么?\")"
   ]
  },
  {
   "cell_type": "markdown",
   "metadata": {},
   "source": [
    "## Multi-round Agent Run"
   ]
  },
  {
   "cell_type": "code",
   "execution_count": null,
   "metadata": {},
   "outputs": [],
   "source": [
    "async def chat(starting_agent: Agent): \n",
    "    with trace(\"main_nb-chat_with_agent\"):\n",
    "        messages = []\n",
    "        while True:\n",
    "            user_input = input(\"You: \")\n",
    "            if user_input.lower() == [\"exit\", \"bye\", \"quit\"]:\n",
    "                break\n",
    "            messages.append({\"role\": \"user\", \"content\": user_input})\n",
    "            # \n",
    "            result = await Runner.run(\n",
    "                starting_agent=starting_agent,\n",
    "                input=messages,\n",
    "                run_config=RunConfig(\n",
    "                    model_provider=OPENAI_COMPATIBLE_MODEL_PROVIDER,\n",
    "                    model=\"gpt-4.1-mini\",\n",
    "                    workflow_name=\"main-nb-chat-test\",\n",
    "                )\n",
    "            )\n",
    "            # display\n",
    "            display(result.final_output)\n",
    "            # overwrite message \n",
    "            messages = result.to_input_list()"
   ]
  },
  {
   "cell_type": "code",
   "execution_count": null,
   "metadata": {},
   "outputs": [],
   "source": [
    "await chat(\n",
    "    starting_agent=test_agent\n",
    ")"
   ]
  }
 ],
 "metadata": {
  "kernelspec": {
   "display_name": ".venv",
   "language": "python",
   "name": "python3"
  },
  "language_info": {
   "codemirror_mode": {
    "name": "ipython",
    "version": 3
   },
   "file_extension": ".py",
   "mimetype": "text/x-python",
   "name": "python",
   "nbconvert_exporter": "python",
   "pygments_lexer": "ipython3",
   "version": "3.12.9"
  }
 },
 "nbformat": 4,
 "nbformat_minor": 2
}
